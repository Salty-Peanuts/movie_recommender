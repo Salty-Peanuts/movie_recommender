{
 "cells": [
  {
   "cell_type": "code",
   "execution_count": 2,
   "metadata": {},
   "outputs": [
    {
     "name": "stdout",
     "output_type": "stream",
     "text": [
      "Director: Christopher Nolan (2010)\n",
      "\n",
      "1. Interstellar - Christopher Nolan (2014) - A team of astronauts travels through a wormhole in search of a new home for humanity.\n",
      "2. Shutter Island - Martin Scorsese (2010) - U.S. Marshal Teddy Daniels investigates the disappearance of a patient from a hospital for the criminally insane.\n",
      "3. The Matrix - The Wachowskis (1999) - A computer programmer is drawn into a rebellion against machines that have enslaved humanity.\n",
      "4. The Prestige - Christopher Nolan (2006) - Two magicians engage in a fierce competition to create the ultimate illusion.\n",
      "5. Memento - Christopher Nolan (2000) - A man tries to track down his wife's killer despite the fact that he suffers from short-term memory loss.\n",
      "6. Paprika - Satoshi Kon (2006) - A researcher develops a device that allows people to enter and explore the dreams of others.\n",
      "7. Source Code - Duncan Jones (2011) - A soldier repeatedly relives the last eight minutes of a train bombing to try and identify the perpetrator and prevent a larger attack.\n",
      "8. Donnie Darko - Richard Kelly (2001) - A troubled teenager is plagued by visions of a giant rabbit and must navigate time travel and parallel universes to save his own life and the world.\n",
      "9. Predestination - Michael and Peter Spierig (2014) - A time traveler goes back in time to prevent a series of bombings, but discovers a shocking truth about his own identity.\n",
      "10. The Adjustment Bureau - George Nolfi (2011) - A man running for Senate falls in love with a ballerina, but mysterious men determined to keep them apart reveal the existence of a powerful force controlling human destiny.\n"
     ]
    }
   ],
   "source": [
    "import openai\n",
    "from config import api_key\n",
    "\n",
    "openai.api_key = api_key\n",
    "\n",
    "messages = [\n",
    "    {\"role\": \"system\", \"content\": \"Give 10 similar movies to the one given to you, with the director, release year, and a brief blurb for each, include provided movie and the director and release year at the top\"}\n",
    "]\n",
    "content = input(\"Give us a movie for similar recommendations: \")\n",
    "messages.append({\"role\": \"user\", \"content\": content})\n",
    "\n",
    "completion = openai.ChatCompletion.create(\n",
    "    model = \"gpt-3.5-turbo\",\n",
    "    messages = messages\n",
    ")\n",
    "\n",
    "chat_response = completion.choices[0].message.content\n",
    "print(chat_response)"
   ]
  }
 ],
 "metadata": {
  "kernelspec": {
   "display_name": "Python 3",
   "language": "python",
   "name": "python3"
  },
  "language_info": {
   "codemirror_mode": {
    "name": "ipython",
    "version": 3
   },
   "file_extension": ".py",
   "mimetype": "text/x-python",
   "name": "python",
   "nbconvert_exporter": "python",
   "pygments_lexer": "ipython3",
   "version": "3.11.4"
  },
  "orig_nbformat": 4
 },
 "nbformat": 4,
 "nbformat_minor": 2
}
