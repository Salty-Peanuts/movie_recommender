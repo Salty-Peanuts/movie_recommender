{
 "cells": [
  {
   "cell_type": "code",
   "execution_count": 4,
   "metadata": {},
   "outputs": [
    {
     "name": "stdout",
     "output_type": "stream",
     "text": [
      "Inception\n",
      "Director: Christopher Nolan\n",
      "Release Year: 2010\n",
      "\n",
      "1. Interstellar (Christopher Nolan, 2014) - A team of space explorers goes on a perilous journey through a wormhole in search of a new home for humanity.\n",
      "\n",
      "2. The Matrix (Lana and Lilly Wachowski, 1999) - Neo, a computer programmer, is drawn into a rebellion against machines that have taken over the world and enslaved humanity.\n",
      "\n",
      "3. Shutter Island (Martin Scorsese, 2010) - Two US Marshals investigate the disappearance of a patient from an isolated mental hospital, but soon uncover a sinister plot.\n",
      "\n",
      "4. The Prestige (Christopher Nolan, 2006) - Two magicians engage in a bitter rivalry that leads them to perform increasingly dangerous and complex tricks.\n",
      "\n",
      "5. Source Code (Duncan Jones, 2011) - A soldier is sent back in time to repeatedly relive the last eight minutes of a train bombing in order to identify the bomber.\n",
      "\n",
      "6. Memento (Christopher Nolan, 2000) - A man with short-term memory loss tries to track down the person who killed his wife, using notes and tattoos to keep him on track.\n",
      "\n",
      "7. The Truman Show (Peter Weir, 1998) - A man discovers his entire life is a reality TV show and attempts to escape the artificial world he lives in.\n",
      "\n",
      "8. Donnie Darko (Richard Kelly, 2001) - A troubled teenager is haunted by visions of a giant rabbit that may be warning him of an impending disaster.\n",
      "\n",
      "9. Eternal Sunshine of the Spotless Mind (Michel Gondry, 2004) - After a painful breakup, a couple decides to have their memories of each other erased, but find themselves drawn back together.\n",
      "\n",
      "10. Primer (Shane Carruth, 2004) - Two engineers accidentally invent a time machine and struggle to understand its implications and consequences.\n"
     ]
    }
   ],
   "source": [
    "import openai\n",
    "from config import api_key\n",
    "\n",
    "openai.api_key = api_key\n",
    "\n",
    "messages = [\n",
    "    {\"role\": \"system\", \"content\": \"Give 10 similar movies to the one given to you, with the director, release year, and a brief blurb for each, include provided movie name and the director and release year at the top\"}\n",
    "]\n",
    "content = input(\"Give us a movie for similar recommendations: \")\n",
    "messages.append({\"role\": \"user\", \"content\": content})\n",
    "\n",
    "completion = openai.ChatCompletion.create(\n",
    "    model = \"gpt-3.5-turbo\",\n",
    "    messages = messages\n",
    ")\n",
    "\n",
    "chat_response = completion.choices[0].message.content\n",
    "print(content)\n",
    "print(chat_response)"
   ]
  }
 ],
 "metadata": {
  "kernelspec": {
   "display_name": "Python 3",
   "language": "python",
   "name": "python3"
  },
  "language_info": {
   "codemirror_mode": {
    "name": "ipython",
    "version": 3
   },
   "file_extension": ".py",
   "mimetype": "text/x-python",
   "name": "python",
   "nbconvert_exporter": "python",
   "pygments_lexer": "ipython3",
   "version": "3.11.4"
  },
  "orig_nbformat": 4
 },
 "nbformat": 4,
 "nbformat_minor": 2
}
